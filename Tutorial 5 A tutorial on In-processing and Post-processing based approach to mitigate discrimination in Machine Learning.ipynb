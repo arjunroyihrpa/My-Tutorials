{
 "cells": [
  {
   "cell_type": "markdown",
   "id": "2c961f43",
   "metadata": {},
   "source": [
    "## Welcome To The Tutorial 5 Of Responsible AI"
   ]
  },
  {
   "cell_type": "markdown",
   "id": "668fb17f",
   "metadata": {},
   "source": [
    "#### Welcome to our tutorial on In- and Post-processing based approach to mitigate discrimination in Machine Learning\n",
    "\n",
    "In this tutorial, we begin with exploring some popular In-processing based fairness algorithms and then later on also explore some Post-processing fairness algorithms. For practical code examples we again use the ACS-PUMS data to train the machine learning models under discussion.\n"
   ]
  },
  {
   "cell_type": "markdown",
   "id": "a1f48c72",
   "metadata": {},
   "source": [
    "**In-processing** bias mitigation algorithms are techniques applied during the training process to address biases and promote fairness within machine learning models. These algorithms aim to modify the learning process itself to ensure that the model does not unfairly favor or discriminate against particular groups. Here's an overview of some key in-processing bias mitigation algorithms:\n",
    "\n",
    "**1. Reweighting Techniques:**\n",
    "Objective: Adjust the weights of instances to balance the contribution of different groups.\n",
    "Implementation: Algorithms such as the Reweighing algorithm assign higher weights to underrepresented groups, ensuring that the model pays equal attention to all demographic subgroups.\n",
    "\n",
    "**2. Adversarial Training:**\n",
    "Objective: Train the model to be invariant to sensitive attributes by introducing adversarial networks.\n",
    "Implementation: Adversarial networks are added to the training process, aiming to simultaneously predict the target variable and confuse an adversary attempting to predict sensitive attributes. This encourages the model to be less dependent on sensitive features.\n",
    "\n",
    "**9. Constrained Optimization:**\n",
    "Objective: Incorporate constraints during the optimization process to explicitly enforce fairness criteria.\n",
    "Implementation: Define constraints that reflect fairness requirements (e.g., demographic parity) and include them in the optimization objective during model training. Algorithms like adversarial debiasing and disparate impact remover often leverage constrained optimization.\n"
   ]
  },
  {
   "cell_type": "markdown",
   "id": "ac6b3e12",
   "metadata": {},
   "source": [
    "#### Lets dive into more details by training an ML model on previously introduced ACS-PUMS data with our own defined task and filter using the folktables library"
   ]
  },
  {
   "cell_type": "code",
   "execution_count": 218,
   "id": "95b045aa",
   "metadata": {},
   "outputs": [],
   "source": [
    "import folktables\n",
    "from folktables import ACSDataSource\n",
    "\n",
    "data_source = ACSDataSource(survey_year='2018', horizon='1-Year', survey='person')\n",
    "acs_data = data_source.get_data(states=[\"AR\"], download=True)"
   ]
  },
  {
   "cell_type": "code",
   "execution_count": 219,
   "id": "d4854d4f",
   "metadata": {},
   "outputs": [],
   "source": [
    "import sklearn\n",
    "from sklearn.model_selection import train_test_split\n",
    "from sklearn.tree import DecisionTreeClassifier\n",
    "from fairlearn.metrics import MetricFrame\n",
    "from sklearn.metrics import accuracy_score,precision_score,f1_score\n",
    "import numpy as np\n",
    "from fairlearn.metrics import true_positive_rate"
   ]
  },
  {
   "cell_type": "markdown",
   "id": "c8fd73b1",
   "metadata": {},
   "source": [
    "#### Defining our own filter"
   ]
  },
  {
   "cell_type": "code",
   "execution_count": 8,
   "id": "0623d464",
   "metadata": {},
   "outputs": [],
   "source": [
    "def our_filter(data):\n",
    "    df = data\n",
    "    df = df[df['AGEP'] < 65]\n",
    "    df = df[df['PINCP'] > 1000]\n",
    "    df = df[df['WKHP'] > 2]\n",
    "    df = df[df['PWGTP'] >= 1]\n",
    "    return df"
   ]
  },
  {
   "cell_type": "markdown",
   "id": "13831b9f",
   "metadata": {},
   "source": [
    "#### Defining our own task"
   ]
  },
  {
   "cell_type": "code",
   "execution_count": 61,
   "id": "5074576d",
   "metadata": {},
   "outputs": [],
   "source": [
    "features=[ 'AGEP','SCHL', 'MAR','DIS','ESP','CIT','MIG','MIL', 'ANC','NATIVITY','DEAR',\n",
    "        'DEYE','DREM','RAC1P','PUMA', 'OCCP','JWTR','GCL','PINCP',\n",
    "        'ESR', 'POWPUMA']\n",
    "\n",
    "Hardworkers = folktables.BasicProblem(\n",
    "                         features=features,\n",
    "                        target='WKHP',\n",
    "                        target_transform=lambda x: x > 45,\n",
    "                        group='SEX',\n",
    "                        preprocess=our_filter,\n",
    "                        postprocess=lambda x: np.nan_to_num(x, -1),\n",
    "                    )"
   ]
  },
  {
   "cell_type": "code",
   "execution_count": 109,
   "id": "184ae7c7",
   "metadata": {},
   "outputs": [],
   "source": [
    "features, label, group = Hardworkers.df_to_pandas(acs_data)"
   ]
  },
  {
   "cell_type": "code",
   "execution_count": 110,
   "id": "6305085c",
   "metadata": {},
   "outputs": [
    {
     "data": {
      "text/html": [
       "<div>\n",
       "<style scoped>\n",
       "    .dataframe tbody tr th:only-of-type {\n",
       "        vertical-align: middle;\n",
       "    }\n",
       "\n",
       "    .dataframe tbody tr th {\n",
       "        vertical-align: top;\n",
       "    }\n",
       "\n",
       "    .dataframe thead th {\n",
       "        text-align: right;\n",
       "    }\n",
       "</style>\n",
       "<table border=\"1\" class=\"dataframe\">\n",
       "  <thead>\n",
       "    <tr style=\"text-align: right;\">\n",
       "      <th></th>\n",
       "      <th>SEX</th>\n",
       "    </tr>\n",
       "  </thead>\n",
       "  <tbody>\n",
       "    <tr>\n",
       "      <th>0</th>\n",
       "      <td>2</td>\n",
       "    </tr>\n",
       "    <tr>\n",
       "      <th>1</th>\n",
       "      <td>1</td>\n",
       "    </tr>\n",
       "    <tr>\n",
       "      <th>2</th>\n",
       "      <td>2</td>\n",
       "    </tr>\n",
       "    <tr>\n",
       "      <th>3</th>\n",
       "      <td>2</td>\n",
       "    </tr>\n",
       "    <tr>\n",
       "      <th>4</th>\n",
       "      <td>2</td>\n",
       "    </tr>\n",
       "    <tr>\n",
       "      <th>...</th>\n",
       "      <td>...</td>\n",
       "    </tr>\n",
       "    <tr>\n",
       "      <th>12430</th>\n",
       "      <td>1</td>\n",
       "    </tr>\n",
       "    <tr>\n",
       "      <th>12431</th>\n",
       "      <td>1</td>\n",
       "    </tr>\n",
       "    <tr>\n",
       "      <th>12432</th>\n",
       "      <td>2</td>\n",
       "    </tr>\n",
       "    <tr>\n",
       "      <th>12433</th>\n",
       "      <td>2</td>\n",
       "    </tr>\n",
       "    <tr>\n",
       "      <th>12434</th>\n",
       "      <td>1</td>\n",
       "    </tr>\n",
       "  </tbody>\n",
       "</table>\n",
       "<p>12435 rows × 1 columns</p>\n",
       "</div>"
      ],
      "text/plain": [
       "       SEX\n",
       "0        2\n",
       "1        1\n",
       "2        2\n",
       "3        2\n",
       "4        2\n",
       "...    ...\n",
       "12430    1\n",
       "12431    1\n",
       "12432    2\n",
       "12433    2\n",
       "12434    1\n",
       "\n",
       "[12435 rows x 1 columns]"
      ]
     },
     "execution_count": 110,
     "metadata": {},
     "output_type": "execute_result"
    }
   ],
   "source": [
    "group"
   ]
  },
  {
   "cell_type": "markdown",
   "id": "191c59c9",
   "metadata": {},
   "source": [
    "#### 1: Male, 2: Female (refer to tutorial 2)"
   ]
  },
  {
   "cell_type": "code",
   "execution_count": 111,
   "id": "a2fdf338",
   "metadata": {},
   "outputs": [],
   "source": [
    "X_train, X_test, y_train, y_test, group_train, group_test = train_test_split(\n",
    "    features, label, group, test_size=0.2, random_state=0)"
   ]
  },
  {
   "cell_type": "markdown",
   "id": "2c3d66be",
   "metadata": {},
   "source": [
    "#### We start with the 1) Reweighting Techniques. \n",
    "\n",
    "We will use an ensemble method for fairness: **AdaFair: Cumulative Fairness Boosting**, modifying the data distribution throughout boosting rounds to emphasize misclassified instances of minority groups. \n",
    "\n",
    "To install Adafair refer to the repo: https://github.com/iosifidisvasileios/AdaFair/tree/master\n",
    "\n",
    "\n",
    "After the installation I ran into some issues while loading the Adafair library. To resolve it I changed the sklearn version to 1.2.2"
   ]
  },
  {
   "cell_type": "code",
   "execution_count": 112,
   "id": "4c05ff40",
   "metadata": {},
   "outputs": [],
   "source": [
    "from adafair import AdaFair"
   ]
  },
  {
   "cell_type": "markdown",
   "id": "1671a358",
   "metadata": {},
   "source": [
    "**To note:** Adafair needs the data to contain the protected information, to shift the weights of the data instances. Also it assumes the class labels to be of int type, particularly 1 for positive (in our case y=True) and -1 for negative (in our case y=False). Thus we need to change the labels accordingly. "
   ]
  },
  {
   "cell_type": "code",
   "execution_count": 113,
   "id": "d8a7092e",
   "metadata": {},
   "outputs": [
    {
     "name": "stderr",
     "output_type": "stream",
     "text": [
      "/Users/arjunroy/anaconda3/lib/python3.11/site-packages/sklearn/utils/deprecation.py:101: FutureWarning: Attribute `base_estimator_` was deprecated in version 1.2 and will be removed in 1.4. Use `estimator_` instead.\n",
      "  warnings.warn(msg, category=FutureWarning)\n"
     ]
    }
   ],
   "source": [
    "X_train['sex']=group_train.copy()\n",
    "X_test['sex']=group_test.copy()\n",
    "sa_index=-1 #the location of the protected attribute in the data\n",
    "p_Group=2 #the protected group\n",
    "\n",
    "y_train=[1 if v==True else -1 for v in y_train['WKHP']]\n",
    "classifier = AdaFair(n_estimators=200, saIndex=sa_index, saValue=p_Group, trade_off_c=1.0)\n",
    "\n",
    "classifier.fit(X_train, y_train)\n",
    "y_pred = classifier.predict(X_test)"
   ]
  },
  {
   "cell_type": "code",
   "execution_count": 114,
   "id": "a4ce1955",
   "metadata": {},
   "outputs": [
    {
     "data": {
      "text/plain": [
       "array([[<Axes: title={'center': 'accuracy'}, ylabel='SEX'>,\n",
       "        <Axes: title={'center': 'True Positive Rate'}, ylabel='SEX'>,\n",
       "        <Axes: ylabel='SEX'>],\n",
       "       [<Axes: ylabel='SEX'>, <Axes: ylabel='SEX'>, <Axes: ylabel='SEX'>],\n",
       "       [<Axes: ylabel='SEX'>, <Axes: ylabel='SEX'>, <Axes: ylabel='SEX'>]],\n",
       "      dtype=object)"
      ]
     },
     "execution_count": 114,
     "metadata": {},
     "output_type": "execute_result"
    },
    {
     "data": {
      "image/png": "[encoded data removed]",
      "text/plain": [
       "<Figure size 1200x800 with 9 Axes>"
      ]
     },
     "metadata": {},
     "output_type": "display_data"
    }
   ],
   "source": [
    "y_test=[1 if v==True else -1 for v in y_test['WKHP']]\n",
    "\n",
    "metrics = {\n",
    "    \"accuracy\": accuracy_score,\n",
    "    \"True Positive Rate\": true_positive_rate\n",
    "}\n",
    "metric_frame = MetricFrame(\n",
    "    metrics=metrics, y_true=y_test, y_pred=y_pred, sensitive_features=group_test\n",
    ")\n",
    "metric_frame.by_group.plot.barh(\n",
    "    subplots=True,\n",
    "    layout=[3, 3],\n",
    "    legend=False,\n",
    "    figsize=[12, 8],\n",
    "    title=\"Show all metrics\",\n",
    ")"
   ]
  },
  {
   "cell_type": "markdown",
   "id": "5a9999b0",
   "metadata": {},
   "source": [
    "We can see that the true positive rates are almost equal between the groups. This, is because the model in its default setting is tailored to minimize Equalized odds, thus cares about the ground truth label distribution."
   ]
  },
  {
   "cell_type": "markdown",
   "id": "c8a5a04d",
   "metadata": {},
   "source": [
    "**Next we move the 2) Adverserial training methods. \n",
    "\n",
    "Both the fairlearn and the aif360 library has the implementation of the adverserial algorithm introduced by Zhang et al. in AIES 2018. "
   ]
  },
  {
   "cell_type": "markdown",
   "id": "1fd6d123",
   "metadata": {},
   "source": [
    "We will use the one from the fairlearn library, but there is no preference between fairlearn and aif360 and both the impletentation works well.\n",
    "\n",
    "##### Adverserial fair classifier are basically implemented with a deep NN backend. Thus, one needs to have either pytorch or tensorflow installed for this. In this tutorial we will use pytorch as backend."
   ]
  },
  {
   "cell_type": "code",
   "execution_count": 140,
   "id": "33fc6a28",
   "metadata": {},
   "outputs": [],
   "source": [
    "X_train, X_test, y_train, y_test, group_train, group_test = train_test_split(\n",
    "    features, label, group, test_size=0.2, random_state=0)"
   ]
  },
  {
   "cell_type": "code",
   "execution_count": 141,
   "id": "3d607ae7",
   "metadata": {},
   "outputs": [],
   "source": [
    "from fairlearn.adversarial import AdversarialFairnessClassifier"
   ]
  },
  {
   "cell_type": "markdown",
   "id": "05be3909",
   "metadata": {},
   "source": [
    "**To note:** the classifier works on top a NN architecture, which if not passed in the argument, then assumes as default a neural network without any hidden layers. However, the number of nodes in the input and output layer are automatically inferred from data, and the final activation function (such as softmax for categorical predictors) are inferred from data. It is also possible to pass a list $[k_1, k_2, \\dots]$, where each $k_i$\n",
    "either indicates the number of nodes (if $k_i$  is an integer) or an activation function (if $k_i$ is a string)"
   ]
  },
  {
   "cell_type": "code",
   "execution_count": 142,
   "id": "4114e920",
   "metadata": {},
   "outputs": [],
   "source": [
    "mitigator = AdversarialFairnessClassifier(\n",
    "    backend=\"torch\",\n",
    "    constraints='equalized_odds',\n",
    "    predictor_model=[50, \"leaky_relu\"],\n",
    "    adversary_model=[3, \"leaky_relu\"],\n",
    "    batch_size=2 ** 11,\n",
    "    progress_updates=0.5,\n",
    "    random_state=123,\n",
    ")"
   ]
  },
  {
   "cell_type": "markdown",
   "id": "f07dbb56",
   "metadata": {},
   "source": [
    "We need to transform the data accordingly as well so that NN can process it."
   ]
  },
  {
   "cell_type": "code",
   "execution_count": 143,
   "id": "6d4acc2b",
   "metadata": {},
   "outputs": [],
   "source": [
    "from sklearn.compose import make_column_transformer, make_column_selector\n",
    "from sklearn.preprocessing import OneHotEncoder, StandardScaler\n",
    "from sklearn.impute import SimpleImputer\n",
    "from sklearn.pipeline import Pipeline\n",
    "from numpy import number\n",
    "\n",
    "ct = make_column_transformer(\n",
    "    (\n",
    "        Pipeline(\n",
    "            [\n",
    "                (\"imputer\", SimpleImputer(strategy=\"mean\")),\n",
    "                (\"normalizer\", StandardScaler()),\n",
    "            ]\n",
    "        ),\n",
    "        make_column_selector(dtype_include=number),\n",
    "    ),\n",
    "    (\n",
    "        Pipeline(\n",
    "            [\n",
    "                (\"imputer\", SimpleImputer(strategy=\"most_frequent\")),\n",
    "                (\"encoder\", OneHotEncoder(drop=\"if_binary\", sparse=False)),\n",
    "            ]\n",
    "        ),\n",
    "        make_column_selector(dtype_include=\"category\"),\n",
    "    ),\n",
    ")"
   ]
  },
  {
   "cell_type": "code",
   "execution_count": 144,
   "id": "aac5e46c",
   "metadata": {},
   "outputs": [],
   "source": [
    "X_prep_train = ct.fit_transform(X_train) # Only fit on training data!\n",
    "X_prep_test = ct.transform(X_test)"
   ]
  },
  {
   "cell_type": "code",
   "execution_count": 145,
   "id": "31a21371",
   "metadata": {},
   "outputs": [],
   "source": [
    "y_train=y_train['WKHP'].array.astype(int)"
   ]
  },
  {
   "cell_type": "code",
   "execution_count": 146,
   "id": "c7b3f991",
   "metadata": {},
   "outputs": [
    {
     "data": {
      "text/html": [
       "<style>#sk-container-id-6 {color: black;background-color: white;}#sk-container-id-6 pre{padding: 0;}#sk-container-id-6 div.sk-toggleable {background-color: white;}#sk-container-id-6 label.sk-toggleable__label {cursor: pointer;display: block;width: 100%;margin-bottom: 0;padding: 0.3em;box-sizing: border-box;text-align: center;}#sk-container-id-6 label.sk-toggleable__label-arrow:before {content: \"▸\";float: left;margin-right: 0.25em;color: #696969;}#sk-container-id-6 label.sk-toggleable__label-arrow:hover:before {color: black;}#sk-container-id-6 div.sk-estimator:hover label.sk-toggleable__label-arrow:before {color: black;}#sk-container-id-6 div.sk-toggleable__content {max-height: 0;max-width: 0;overflow: hidden;text-align: left;background-color: #f0f8ff;}#sk-container-id-6 div.sk-toggleable__content pre {margin: 0.2em;color: black;border-radius: 0.25em;background-color: #f0f8ff;}#sk-container-id-6 input.sk-toggleable__control:checked~div.sk-toggleable__content {max-height: 200px;max-width: 100%;overflow: auto;}#sk-container-id-6 input.sk-toggleable__control:checked~label.sk-toggleable__label-arrow:before {content: \"▾\";}#sk-container-id-6 div.sk-estimator input.sk-toggleable__control:checked~label.sk-toggleable__label {background-color: #d4ebff;}#sk-container-id-6 div.sk-label input.sk-toggleable__control:checked~label.sk-toggleable__label {background-color: #d4ebff;}#sk-container-id-6 input.sk-hidden--visually {border: 0;clip: rect(1px 1px 1px 1px);clip: rect(1px, 1px, 1px, 1px);height: 1px;margin: -1px;overflow: hidden;padding: 0;position: absolute;width: 1px;}#sk-container-id-6 div.sk-estimator {font-family: monospace;background-color: #f0f8ff;border: 1px dotted black;border-radius: 0.25em;box-sizing: border-box;margin-bottom: 0.5em;}#sk-container-id-6 div.sk-estimator:hover {background-color: #d4ebff;}#sk-container-id-6 div.sk-parallel-item::after {content: \"\";width: 100%;border-bottom: 1px solid gray;flex-grow: 1;}#sk-container-id-6 div.sk-label:hover label.sk-toggleable__label {background-color: #d4ebff;}#sk-container-id-6 div.sk-serial::before {content: \"\";position: absolute;border-left: 1px solid gray;box-sizing: border-box;top: 0;bottom: 0;left: 50%;z-index: 0;}#sk-container-id-6 div.sk-serial {display: flex;flex-direction: column;align-items: center;background-color: white;padding-right: 0.2em;padding-left: 0.2em;position: relative;}#sk-container-id-6 div.sk-item {position: relative;z-index: 1;}#sk-container-id-6 div.sk-parallel {display: flex;align-items: stretch;justify-content: center;background-color: white;position: relative;}#sk-container-id-6 div.sk-item::before, #sk-container-id-6 div.sk-parallel-item::before {content: \"\";position: absolute;border-left: 1px solid gray;box-sizing: border-box;top: 0;bottom: 0;left: 50%;z-index: -1;}#sk-container-id-6 div.sk-parallel-item {display: flex;flex-direction: column;z-index: 1;position: relative;background-color: white;}#sk-container-id-6 div.sk-parallel-item:first-child::after {align-self: flex-end;width: 50%;}#sk-container-id-6 div.sk-parallel-item:last-child::after {align-self: flex-start;width: 50%;}#sk-container-id-6 div.sk-parallel-item:only-child::after {width: 0;}#sk-container-id-6 div.sk-dashed-wrapped {border: 1px dashed gray;margin: 0 0.4em 0.5em 0.4em;box-sizing: border-box;padding-bottom: 0.4em;background-color: white;}#sk-container-id-6 div.sk-label label {font-family: monospace;font-weight: bold;display: inline-block;line-height: 1.2em;}#sk-container-id-6 div.sk-label-container {text-align: center;}#sk-container-id-6 div.sk-container {/* jupyter's `normalize.less` sets `[hidden] { display: none; }` but bootstrap.min.css set `[hidden] { display: none !important; }` so we also need the `!important` here to be able to override the default hidden behavior on the sphinx rendered scikit-learn.org. See: https://github.com/scikit-learn/scikit-learn/issues/21755 */display: inline-block !important;position: relative;}#sk-container-id-6 div.sk-text-repr-fallback {display: none;}</style><div id=\"sk-container-id-6\" class=\"sk-top-container\"><div class=\"sk-text-repr-fallback\"><pre>AdversarialFairnessClassifier(adversary_model=[3, &#x27;leaky_relu&#x27;],\n",
       "                              backend=&#x27;torch&#x27;, batch_size=2048,\n",
       "                              constraints=&#x27;equalized_odds&#x27;,\n",
       "                              predictor_model=[50, &#x27;leaky_relu&#x27;],\n",
       "                              progress_updates=0.5, random_state=123)</pre><b>In a Jupyter environment, please rerun this cell to show the HTML representation or trust the notebook. <br />On GitHub, the HTML representation is unable to render, please try loading this page with nbviewer.org.</b></div><div class=\"sk-container\" hidden><div class=\"sk-item\"><div class=\"sk-estimator sk-toggleable\"><input class=\"sk-toggleable__control sk-hidden--visually\" id=\"sk-estimator-id-6\" type=\"checkbox\" checked><label for=\"sk-estimator-id-6\" class=\"sk-toggleable__label sk-toggleable__label-arrow\">AdversarialFairnessClassifier</label><div class=\"sk-toggleable__content\"><pre>AdversarialFairnessClassifier(adversary_model=[3, &#x27;leaky_relu&#x27;],\n",
       "                              backend=&#x27;torch&#x27;, batch_size=2048,\n",
       "                              constraints=&#x27;equalized_odds&#x27;,\n",
       "                              predictor_model=[50, &#x27;leaky_relu&#x27;],\n",
       "                              progress_updates=0.5, random_state=123)</pre></div></div></div></div></div>"
      ],
      "text/plain": [
       "AdversarialFairnessClassifier(adversary_model=[3, 'leaky_relu'],\n",
       "                              backend='torch', batch_size=2048,\n",
       "                              constraints='equalized_odds',\n",
       "                              predictor_model=[50, 'leaky_relu'],\n",
       "                              progress_updates=0.5, random_state=123)"
      ]
     },
     "execution_count": 146,
     "metadata": {},
     "output_type": "execute_result"
    }
   ],
   "source": [
    "mitigator.fit(X_prep_train, y_train, sensitive_features=group_train)"
   ]
  },
  {
   "cell_type": "code",
   "execution_count": 147,
   "id": "f715145d",
   "metadata": {},
   "outputs": [],
   "source": [
    "y_pred = mitigator.predict(X_prep_test)"
   ]
  },
  {
   "cell_type": "code",
   "execution_count": 148,
   "id": "91878f33",
   "metadata": {},
   "outputs": [
    {
     "data": {
      "text/plain": [
       "array([[<Axes: title={'center': 'accuracy'}, ylabel='SEX'>,\n",
       "        <Axes: title={'center': 'True Positive Rate'}, ylabel='SEX'>,\n",
       "        <Axes: ylabel='SEX'>],\n",
       "       [<Axes: ylabel='SEX'>, <Axes: ylabel='SEX'>, <Axes: ylabel='SEX'>],\n",
       "       [<Axes: ylabel='SEX'>, <Axes: ylabel='SEX'>, <Axes: ylabel='SEX'>]],\n",
       "      dtype=object)"
      ]
     },
     "execution_count": 148,
     "metadata": {},
     "output_type": "execute_result"
    },
    {
     "data": {
      "image/png": "[encoded data removed]",
      "text/plain": [
       "<Figure size 1200x800 with 9 Axes>"
      ]
     },
     "metadata": {},
     "output_type": "display_data"
    }
   ],
   "source": [
    "y_test=y_test['WKHP'].array.astype(int)\n",
    "\n",
    "metrics = {\n",
    "    \"accuracy\": accuracy_score,\n",
    "    \"True Positive Rate\": true_positive_rate\n",
    "}\n",
    "metric_frame = MetricFrame(\n",
    "    metrics=metrics, y_true=y_test, y_pred=y_pred, sensitive_features=group_test\n",
    ")\n",
    "metric_frame.by_group.plot.barh(\n",
    "    subplots=True,\n",
    "    layout=[3, 3],\n",
    "    legend=False,\n",
    "    figsize=[12, 8],\n",
    "    title=\"Show all metrics\",\n",
    ")"
   ]
  },
  {
   "cell_type": "markdown",
   "id": "04c6d5b0",
   "metadata": {},
   "source": [
    "#### The model learns almost equal true predictions but can you still point out the problems??\n",
    "\n",
    "The true positive rate is still not that impressive. This is because the model does not have the capacity to tackle class imbalance."
   ]
  },
  {
   "cell_type": "markdown",
   "id": "600a6688",
   "metadata": {},
   "source": [
    "Last method we have today for our discussion on in-processing methods is **3) Constrained Optimization**.\n",
    "Under this category the Exponenciated gradient Reduction algorithm introduced by Agarwal et al. in ICML 18 stands the best. The implementation of this algorithm again can be found in both **FairLearn**, and **AIF360** library. We have already seen the implementation using FairLearn in our Tutorial 1.  "
   ]
  },
  {
   "cell_type": "markdown",
   "id": "4c049584",
   "metadata": {},
   "source": [
    "Moving on let's wrap up our today's tutorial with some post-processing methods. We will use **AIF360** library this time."
   ]
  },
  {
   "cell_type": "markdown",
   "id": "57516fac",
   "metadata": {},
   "source": [
    "Post-processing fairness methods are techniques applied after a machine learning model has been trained and has made predictions. These methods aim to mitigate bias and ensure fairness in the outcomes of the model, especially with respect to different demographic groups. Here are some post-processing fairness methods available in the aif360 library:\n",
    "\n",
    "**1. Calibration:**\n",
    "Objective: Adjust predicted probabilities to align with observed outcomes and achieve calibration across different groups.\n",
    "Implementation: Calibrate model predictions to ensure that the predicted probabilities accurately reflect the true likelihood of the event, particularly for different demographic subgroups.\n",
    "\n",
    "**2. Reject Option Classification:**\n",
    "Objective: Set a rejection threshold for uncertain predictions to avoid biased outcomes.\n",
    "Implementation: Reject predictions falling below a confidence threshold, preventing the model from making potentially biased or unfair predictions.\n",
    "\n",
    "**3. Equalized Odds Postprocessing:**\n",
    "Objective: Post-process model predictions to ensure equalized odds across different groups.\n",
    "Implementation: Adjust predicted probabilities to achieve parity in false positive and false negative rates, promoting fairness in both classes.\n",
    "\n",
    "The implementation of **Equalized Odds Postprocessing** we have already seen in our tutorial 1, hence will not repeat here.\n",
    "\n",
    "For the other two let's have a look:"
   ]
  },
  {
   "cell_type": "code",
   "execution_count": 220,
   "id": "072184b8",
   "metadata": {},
   "outputs": [],
   "source": [
    "from aif360.algorithms.postprocessing import CalibratedEqOddsPostprocessing, RejectOptionClassification\n",
    "import aif360"
   ]
  },
  {
   "cell_type": "code",
   "execution_count": 221,
   "id": "d68e575c",
   "metadata": {},
   "outputs": [],
   "source": [
    "X_train, X_test, y_train, y_test, group_train, group_test = train_test_split(\n",
    "    features, label, group, test_size=0.2, random_state=0)"
   ]
  },
  {
   "cell_type": "markdown",
   "id": "3e24f418",
   "metadata": {},
   "source": [
    "We first initialize all the algorithms from the aif360 library and also train our basic classifier upon which we will do the post prediction corrections"
   ]
  },
  {
   "cell_type": "code",
   "execution_count": 222,
   "id": "8454ea25",
   "metadata": {},
   "outputs": [],
   "source": [
    "\n",
    "privileged_groups = [{'sex': 1}]\n",
    "unprivileged_groups = [{'sex': 2}]\n",
    "\n",
    "\n",
    "calib = CalibratedEqOddsPostprocessing(unprivileged_groups=unprivileged_groups,\n",
    "               privileged_groups=privileged_groups)\n",
    "\n",
    "rej = RejectOptionClassification(unprivileged_groups=unprivileged_groups,\n",
    "               privileged_groups=privileged_groups)\n",
    "\n",
    "\n",
    "classifier = DecisionTreeClassifier(min_samples_leaf=5, max_depth=15)\n",
    "classifier.fit(X_train, y_train)\n",
    "y_pred_train=classifier.predict(X_train)\n",
    "y_pred_test = classifier.predict(X_test)"
   ]
  },
  {
   "cell_type": "markdown",
   "id": "c268c9cd",
   "metadata": {},
   "source": [
    "We next prepare the data we need for the post-processing algorithms"
   ]
  },
  {
   "cell_type": "code",
   "execution_count": 223,
   "id": "be7b1849",
   "metadata": {},
   "outputs": [],
   "source": [
    "data_train=X_train.copy()\n",
    "data_train['sex']=group_train.copy()\n",
    "data_train['target']=y_train.copy()\n",
    "\n",
    "data_train_pred=data_train.copy()\n",
    "data_train_pred['target']=y_pred_train.copy()\n",
    "\n",
    "data_test=X_test.copy()\n",
    "data_test['sex']=group_test.copy()\n",
    "data_test['target']=y_test.copy()\n",
    "\n",
    "data_test_pred=data_test.copy()\n",
    "data_test_pred['target']=y_pred_test.copy()\n",
    "\n",
    "\n",
    "aif_train = aif360.datasets.BinaryLabelDataset(\n",
    "    favorable_label=False,\n",
    "    unfavorable_label=True,\n",
    "    df=data_train,\n",
    "    label_names=['target'],\n",
    "    protected_attribute_names=['sex'])\n",
    "\n",
    "aif_train_pred = aif360.datasets.BinaryLabelDataset(\n",
    "    favorable_label=False,\n",
    "    unfavorable_label=True,\n",
    "    df=data_train_pred,\n",
    "    label_names=['target'],\n",
    "    protected_attribute_names=['sex'])\n",
    "\n",
    "\n",
    "aif_test = aif360.datasets.BinaryLabelDataset(\n",
    "    favorable_label=False,\n",
    "    unfavorable_label=True,\n",
    "    df=data_test,\n",
    "    label_names=['target'],\n",
    "    protected_attribute_names=['sex'])\n",
    "\n",
    "aif_test_pred = aif360.datasets.BinaryLabelDataset(\n",
    "    favorable_label=False,\n",
    "    unfavorable_label=True,\n",
    "    df=data_test_pred,\n",
    "    label_names=['target'],\n",
    "    protected_attribute_names=['sex'])"
   ]
  },
  {
   "cell_type": "markdown",
   "id": "a5e3ac5c",
   "metadata": {},
   "source": [
    "Next we train all the post-processing methods"
   ]
  },
  {
   "cell_type": "code",
   "execution_count": 224,
   "id": "91e91fe4",
   "metadata": {},
   "outputs": [
    {
     "name": "stderr",
     "output_type": "stream",
     "text": [
      "/Users/arjunroy/anaconda3/lib/python3.11/site-packages/aif360/algorithms/postprocessing/reject_option_classification.py:160: UserWarning: Unable to satisy fairness constraints\n",
      "  warn(\"Unable to satisy fairness constraints\")\n"
     ]
    },
    {
     "data": {
      "text/plain": [
       "<aif360.algorithms.postprocessing.reject_option_classification.RejectOptionClassification at 0x2fbae1a50>"
      ]
     },
     "execution_count": 224,
     "metadata": {},
     "output_type": "execute_result"
    }
   ],
   "source": [
    "calib.fit(aif_train,aif_train_pred)\n",
    "rej.fit(aif_train,aif_train_pred)"
   ]
  },
  {
   "cell_type": "markdown",
   "id": "7fe55aa0",
   "metadata": {},
   "source": [
    "Now let's see how they have actually performed in producing fair outcomes"
   ]
  },
  {
   "cell_type": "markdown",
   "id": "71eafae5",
   "metadata": {},
   "source": [
    "#### For the CalibratedEqOddsPostprocessing method we have"
   ]
  },
  {
   "cell_type": "code",
   "execution_count": 225,
   "id": "33ed88a6",
   "metadata": {},
   "outputs": [
    {
     "data": {
      "text/plain": [
       "array([[<Axes: title={'center': 'accuracy'}, ylabel='SEX'>,\n",
       "        <Axes: title={'center': 'True Positive Rate'}, ylabel='SEX'>,\n",
       "        <Axes: ylabel='SEX'>],\n",
       "       [<Axes: ylabel='SEX'>, <Axes: ylabel='SEX'>, <Axes: ylabel='SEX'>],\n",
       "       [<Axes: ylabel='SEX'>, <Axes: ylabel='SEX'>, <Axes: ylabel='SEX'>]],\n",
       "      dtype=object)"
      ]
     },
     "execution_count": 225,
     "metadata": {},
     "output_type": "execute_result"
    },
    {
     "data": {
      "image/png": "[encoded data removed]",
      "text/plain": [
       "<Figure size 1200x800 with 9 Axes>"
      ]
     },
     "metadata": {},
     "output_type": "display_data"
    }
   ],
   "source": [
    "calib_pred=calib.predict(aif_test_pred)\n",
    "\n",
    "metrics = {\n",
    "    \"accuracy\": accuracy_score,\n",
    "    \"True Positive Rate\": true_positive_rate\n",
    "}\n",
    "metric_frame = MetricFrame(\n",
    "    metrics=metrics, y_true=aif_test.labels, y_pred=calib_pred.labels, sensitive_features=group_test\n",
    ")\n",
    "metric_frame.by_group.plot.barh(\n",
    "    subplots=True,\n",
    "    layout=[3, 3],\n",
    "    legend=False,\n",
    "    figsize=[12, 8],\n",
    "    title=\"Show all metrics\",\n",
    ")"
   ]
  },
  {
   "cell_type": "markdown",
   "id": "57a8940a",
   "metadata": {},
   "source": [
    "#### For the Reject Option Classification method we have"
   ]
  },
  {
   "cell_type": "code",
   "execution_count": 226,
   "id": "d6c451da",
   "metadata": {},
   "outputs": [
    {
     "data": {
      "text/plain": [
       "array([[<Axes: title={'center': 'accuracy'}, ylabel='SEX'>,\n",
       "        <Axes: title={'center': 'True Positive Rate'}, ylabel='SEX'>,\n",
       "        <Axes: ylabel='SEX'>],\n",
       "       [<Axes: ylabel='SEX'>, <Axes: ylabel='SEX'>, <Axes: ylabel='SEX'>],\n",
       "       [<Axes: ylabel='SEX'>, <Axes: ylabel='SEX'>, <Axes: ylabel='SEX'>]],\n",
       "      dtype=object)"
      ]
     },
     "execution_count": 226,
     "metadata": {},
     "output_type": "execute_result"
    },
    {
     "data": {
      "image/png": "[encoded data removed]",
      "text/plain": [
       "<Figure size 1200x800 with 9 Axes>"
      ]
     },
     "metadata": {},
     "output_type": "display_data"
    }
   ],
   "source": [
    "rej_pred=rej.predict(aif_test_pred)\n",
    "\n",
    "metrics = {\n",
    "    \"accuracy\": accuracy_score,\n",
    "    \"True Positive Rate\": true_positive_rate\n",
    "}\n",
    "metric_frame = MetricFrame(\n",
    "    metrics=metrics, y_true=aif_test.labels, y_pred=rej_pred.labels, sensitive_features=group_test\n",
    ")\n",
    "metric_frame.by_group.plot.barh(\n",
    "    subplots=True,\n",
    "    layout=[3, 3],\n",
    "    legend=False,\n",
    "    figsize=[12, 8],\n",
    "    title=\"Show all metrics\",\n",
    ")"
   ]
  },
  {
   "cell_type": "markdown",
   "id": "96d0468f",
   "metadata": {},
   "source": [
    "### So we see that the in-processing methods in general have better predictive outcomes than the post-processing, as post-processing algorithms are limited to the predictive capacity of the base classifiers.   "
   ]
  },
  {
   "cell_type": "markdown",
   "id": "3b541e10",
   "metadata": {},
   "source": [
    "That's all for today, hope you enjoyed the session and learned something interesting today."
   ]
  },
  {
   "cell_type": "markdown",
   "id": "4196f710",
   "metadata": {},
   "source": [
    "### References\n",
    "\n",
    "- Bellamy, R. K., Dey, K., Hind, M., Hoffman, S. C., Houde, S., Kannan, K., ... & Zhang, Y. (2018). AI Fairness 360: An extensible toolkit for detecting, understanding, and mitigating unwanted algorithmic bias. arXiv preprint arXiv:1810.01943.\n",
    "\n",
    "- R. Zemel, Y. Wu, K. Swersky, T. Pitassi, and C. Dwork, “Learning Fair Representations.” International Conference on Machine Learning, 2013.\n",
    "\n",
    "- G. Pleiss, M. Raghavan, F. Wu, J. Kleinberg, and K. Q. Weinberger, “On Fairness and Calibration,” Conference on Neural Information Processing Systems, 2017\n",
    "\n",
    "- F. Kamiran, A. Karim, and X. Zhang, “Decision Theory for Discrimination-Aware Classification,” IEEE International Conference on Data Mining, 2012.\n",
    "\n",
    "- B. H. Zhang, B. Lemoine, and M. Mitchell, “Mitigating Unwanted Biases with Adversarial Learning,” AAAI/ACM Conference on Artificial Intelligence, Ethics, and Society, 2018.\n",
    "\n",
    "- Iosifidis, V., Roy, A., & Ntoutsi, E. (2022). Parity-based cumulative fairness-aware boosting. Knowledge and Information Systems, 64(10), 2737-2770."
   ]
  }
 ],
 "metadata": {
  "kernelspec": {
   "display_name": "Python 3 (ipykernel)",
   "language": "python",
   "name": "python3"
  },
  "language_info": {
   "codemirror_mode": {
    "name": "ipython",
    "version": 3
   },
   "file_extension": ".py",
   "mimetype": "text/x-python",
   "name": "python",
   "nbconvert_exporter": "python",
   "pygments_lexer": "ipython3",
   "version": "3.11.4"
  }
 },
 "nbformat": 4,
 "nbformat_minor": 5
}
