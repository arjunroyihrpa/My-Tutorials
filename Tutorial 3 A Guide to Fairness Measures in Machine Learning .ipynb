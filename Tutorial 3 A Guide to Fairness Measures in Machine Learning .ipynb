{
 "cells": [
  {
   "cell_type": "markdown",
   "id": "2c961f43",
   "metadata": {},
   "source": [
    "## Welcome To The Tutorial 3 Of Responsible AI"
   ]
  },
  {
   "cell_type": "markdown",
   "id": "668fb17f",
   "metadata": {},
   "source": [
    "#### Welcome to our tutorial on A Guide to Fairness Measures in Machine Learning \n",
    "\n",
    "In this tutorial, we explore popular fairness measures and provide practical code examples using the Fairlearn library and ACS-PUMS data to assess and mitigate bias in machine learning models.\n"
   ]
  },
  {
   "cell_type": "markdown",
   "id": "a1f48c72",
   "metadata": {},
   "source": [
    "**Fairness in Machine Learning:**\n",
    "Fairness in machine learning refers to the ethical and legal obligation to ensure that algorithms and models do not discriminate against or disadvantage particular individuals or groups based on attributes such as race, gender, age, or other sensitive features. Fairness aims to prevent bias and discrimination in algorithmic decision-making processes, promoting equitable outcomes for all individuals.\n",
    "\n",
    "**Why Fairness Measures Are Needed:**\n",
    "Fairness measures are essential in machine learning for several reasons:\n",
    "\n",
    "1. **Mitigating Bias:** Machine learning models, when trained on biased data, can perpetuate and even exacerbate existing biases. Fairness measures help identify these biases, allowing data scientists and policymakers to take corrective actions.\n",
    "\n",
    "2. **Legal and Ethical Compliance:** Discriminatory algorithms can lead to legal consequences and public backlash. Fairness measures help organizations avoid legal liability and adhere to ethical standards.\n",
    "\n",
    "3. **Equitable Decision-Making:** Fairness measures ensure that decisions made by AI systems are fair and just, benefiting society as a whole. They promote fairness in contexts such as lending, hiring, healthcare, and criminal justice.\n",
    "\n",
    "4. **Transparency and Accountability:** Fairness measures enhance the transparency of machine learning models. When disparities are detected, it becomes possible to understand and explain why certain decisions are being made.\n",
    "\n",
    "5. **Improving Model Performance:** Addressing bias and ensuring fairness can lead to better model performance. Biased models may not perform optimally for all groups, leading to suboptimal outcomes.\n",
    "\n",
    "In summary, fairness measures are needed to rectify biases, maintain ethical and legal compliance, achieve equitable decision-making, promote transparency, and ultimately enhance the performance and reliability of machine learning models in real-world applications."
   ]
  },
  {
   "cell_type": "markdown",
   "id": "ac6b3e12",
   "metadata": {},
   "source": [
    "#### Lets dive into more details by training an ML model on previously introduced ACS-PUMS data \n",
    "\n",
    "For practice we will resume with our own defined task and filter using the folktables library"
   ]
  },
  {
   "cell_type": "code",
   "execution_count": 124,
   "id": "95b045aa",
   "metadata": {},
   "outputs": [],
   "source": [
    "import folktables\n",
    "from folktables import ACSDataSource\n",
    "\n",
    "data_source = ACSDataSource(survey_year='2018', horizon='1-Year', survey='person')\n",
    "acs_data = data_source.get_data(states=[\"AR\"], download=True)\n"
   ]
  },
  {
   "cell_type": "code",
   "execution_count": 125,
   "id": "d4854d4f",
   "metadata": {},
   "outputs": [],
   "source": [
    "import sklearn\n",
    "from sklearn.model_selection import train_test_split\n",
    "from sklearn.tree import DecisionTreeClassifier\n",
    "from fairlearn.metrics import MetricFrame\n",
    "from sklearn.metrics import accuracy_score,precision_score,f1_score\n",
    "import numpy as np"
   ]
  },
  {
   "cell_type": "markdown",
   "id": "c8fd73b1",
   "metadata": {},
   "source": [
    "#### Defining our own filter"
   ]
  },
  {
   "cell_type": "code",
   "execution_count": 126,
   "id": "0623d464",
   "metadata": {},
   "outputs": [],
   "source": [
    "def our_filter(data):\n",
    "    df = data\n",
    "    df = df[df['AGEP'] < 65]\n",
    "    df = df[df['PINCP'] > 1000]\n",
    "    df = df[df['WKHP'] > 2]\n",
    "    df = df[df['PWGTP'] >= 1]\n",
    "    return df"
   ]
  },
  {
   "cell_type": "markdown",
   "id": "13831b9f",
   "metadata": {},
   "source": [
    "### Defining our own task"
   ]
  },
  {
   "cell_type": "code",
   "execution_count": 150,
   "id": "5074576d",
   "metadata": {},
   "outputs": [],
   "source": [
    "features=[ 'AGEP','SCHL', 'MAR','DIS','ESP','CIT','MIG','MIL', 'ANC','NATIVITY','DEAR',\n",
    "        'DEYE','DREM','RAC1P','PUMA', 'OCCP','JWTR','GCL','PINCP',\n",
    "        'ESR', 'OCCP', 'POWPUMA']\n",
    "\n",
    "Hardworkers = folktables.BasicProblem(\n",
    "                         features=features,\n",
    "                        target='WKHP',\n",
    "                        target_transform=lambda x: x > 45,\n",
    "                        group='SEX',\n",
    "                        preprocess=our_filter,\n",
    "                        postprocess=lambda x: np.nan_to_num(x, -1),\n",
    "                    )"
   ]
  },
  {
   "cell_type": "code",
   "execution_count": 151,
   "id": "184ae7c7",
   "metadata": {},
   "outputs": [],
   "source": [
    "features, label, group = Hardworkers.df_to_pandas(acs_data)"
   ]
  },
  {
   "cell_type": "code",
   "execution_count": 152,
   "id": "2c6bfeff",
   "metadata": {},
   "outputs": [],
   "source": [
    "X_train, X_test, y_train, y_test, group_train, group_test = train_test_split(\n",
    "    features, label, group, test_size=0.2, random_state=0)"
   ]
  },
  {
   "cell_type": "code",
   "execution_count": 153,
   "id": "2d4d520b",
   "metadata": {},
   "outputs": [],
   "source": [
    "classifier = DecisionTreeClassifier(min_samples_leaf=5, max_depth=15)\n",
    "classifier.fit(X_train, y_train)\n",
    "y_pred = classifier.predict(X_test)"
   ]
  },
  {
   "cell_type": "markdown",
   "id": "bc2246a6",
   "metadata": {},
   "source": [
    "## \n",
    "\n",
    "#### We begin by accessing the models performance on each group using some commonly used ML evaluation metrics"
   ]
  },
  {
   "cell_type": "code",
   "execution_count": 154,
   "id": "4fe4a300",
   "metadata": {},
   "outputs": [
    {
     "data": {
      "text/plain": [
       "array([[<Axes: title={'center': 'accuracy'}, ylabel='SEX'>,\n",
       "        <Axes: title={'center': 'precision'}, ylabel='SEX'>,\n",
       "        <Axes: title={'center': 'F1 score'}, ylabel='SEX'>],\n",
       "       [<Axes: ylabel='SEX'>, <Axes: ylabel='SEX'>, <Axes: ylabel='SEX'>],\n",
       "       [<Axes: ylabel='SEX'>, <Axes: ylabel='SEX'>, <Axes: ylabel='SEX'>]],\n",
       "      dtype=object)"
      ]
     },
     "execution_count": 154,
     "metadata": {},
     "output_type": "execute_result"
    },
    {
     "data": {
      "image/png": "[encoded data removed]",
      "text/plain": [
       "<Figure size 1200x800 with 9 Axes>"
      ]
     },
     "metadata": {},
     "output_type": "display_data"
    }
   ],
   "source": [
    "metrics = {\n",
    "    \"accuracy\": accuracy_score,\n",
    "    \"precision\": precision_score,\n",
    "    \"F1 score\": f1_score,\n",
    "}\n",
    "metric_frame = MetricFrame(\n",
    "    metrics=metrics, y_true=y_test, y_pred=y_pred, sensitive_features=group_test\n",
    ")\n",
    "metric_frame.by_group.plot.barh(\n",
    "    subplots=True,\n",
    "    layout=[3, 3],\n",
    "    legend=False,\n",
    "    figsize=[12, 8],\n",
    "    title=\"Show all metrics\",\n",
    ")"
   ]
  },
  {
   "cell_type": "markdown",
   "id": "2f3f37d1",
   "metadata": {},
   "source": [
    "# \n",
    "\n",
    "We can notice that the model clearly has **difference in predictive performance** on the two different (\"1\": Male, \"2\": Female) demographic groups. This already hints us that there is some discrimination."
   ]
  },
  {
   "cell_type": "markdown",
   "id": "391aec7e",
   "metadata": {},
   "source": [
    "But, this simple hint is not enough. ML is a statistical system and to understand/correct problems in such a system we need to formally access any property we are interested in. "
   ]
  },
  {
   "cell_type": "markdown",
   "id": "e5fcc69c",
   "metadata": {},
   "source": [
    "**Thus, we need formal definition of fairness** which gives us a **statistical analysis of the discrimination** observed in the predicted outcome of the model. There had been a plethora of fairness measures proposed in the literature. Let's look into some of the popular fairness measures in machine learning, along with examples to illustrate their usage:"
   ]
  },
  {
   "cell_type": "markdown",
   "id": "51f7d256",
   "metadata": {},
   "source": [
    "### 1. Statistical Parity (Disparate Impact):\n",
    "\n",
    "**Description:** Statistical parity, also known as demographic parity, measures whether the probability of a favorable outcome is consistent across different groups defined by a sensitive attribute (e.g., gender, race). It evaluates whether there is an imbalance in outcomes between these groups.\n",
    "\n",
    "**Formally:** A Statistical or Demographic Parity difference is defined as \n",
    "$|E[h(X)=1| S=g] - E[h(X)=1| S=\\hat{g}]|$ where $g$, $\\hat{g}$ are a groups defined protected attribute $S$\n",
    "\n",
    "**Code Example:**"
   ]
  },
  {
   "cell_type": "code",
   "execution_count": 155,
   "id": "1ad8461f",
   "metadata": {},
   "outputs": [],
   "source": [
    "from fairlearn.metrics import demographic_parity_difference\n",
    "\n",
    "# Calculate demographic parity difference\n",
    "dp_diff = demographic_parity_difference(y_test, y_pred, sensitive_features=group_test)\n"
   ]
  },
  {
   "cell_type": "code",
   "execution_count": 156,
   "id": "38e22b0f",
   "metadata": {},
   "outputs": [
    {
     "data": {
      "text/plain": [
       "0.10664189707743046"
      ]
     },
     "execution_count": 156,
     "metadata": {},
     "output_type": "execute_result"
    }
   ],
   "source": [
    "dp_diff"
   ]
  },
  {
   "cell_type": "markdown",
   "id": "62d03ab7",
   "metadata": {},
   "source": [
    "The value **0.11516108875567818** gives the evaluation of discrimination of the model w.r.t Statistical Parity"
   ]
  },
  {
   "cell_type": "markdown",
   "id": "655ee2a2",
   "metadata": {},
   "source": [
    "Another way to impose Statistical Parity is by comparing the ratio between the probablities of the different groups. This way of measuring is particularly useful when the model prediction needs to comply with certain legal regulations like the 80% hiring contraints i.e. an unfavoured group must be at least **$0.8$** likely as the favoured group to be hired.  "
   ]
  },
  {
   "cell_type": "code",
   "execution_count": 157,
   "id": "20658d9e",
   "metadata": {},
   "outputs": [
    {
     "data": {
      "text/plain": [
       "0.4161580172609584"
      ]
     },
     "execution_count": 157,
     "metadata": {},
     "output_type": "execute_result"
    }
   ],
   "source": [
    "from fairlearn.metrics import demographic_parity_ratio\n",
    "dp_ratio = demographic_parity_ratio(y_test, y_pred, sensitive_features=group_test)\n",
    "dp_ratio"
   ]
  },
  {
   "cell_type": "markdown",
   "id": "b54cf840",
   "metadata": {},
   "source": [
    "Clearly there is a high discrimination between the two groups. Remember SP takes into account only the equality in prediction (correct or incorrect doesn't matter). \n",
    "\n",
    "-  To visualize the difference we need to plot positive prediction probabilities for each group.\n",
    "\n",
    "- Let's define a function to compute only the probability for positive prediction and then visualize it through the metric frame functionality of FairLearn. "
   ]
  },
  {
   "cell_type": "code",
   "execution_count": 158,
   "id": "ff827c37",
   "metadata": {},
   "outputs": [
    {
     "name": "stdout",
     "output_type": "stream",
     "text": [
      "2487\n",
      "1303\n",
      "1184\n"
     ]
    },
    {
     "data": {
      "text/plain": [
       "array([[<Axes: title={'center': 'Positive Predictions'}, ylabel='SEX'>,\n",
       "        <Axes: ylabel='SEX'>, <Axes: ylabel='SEX'>],\n",
       "       [<Axes: ylabel='SEX'>, <Axes: ylabel='SEX'>, <Axes: ylabel='SEX'>],\n",
       "       [<Axes: ylabel='SEX'>, <Axes: ylabel='SEX'>, <Axes: ylabel='SEX'>]],\n",
       "      dtype=object)"
      ]
     },
     "execution_count": 158,
     "metadata": {},
     "output_type": "execute_result"
    },
    {
     "data": {
      "image/png": "[encoded data removed]",
      "text/plain": [
       "<Figure size 1200x800 with 9 Axes>"
      ]
     },
     "metadata": {},
     "output_type": "display_data"
    }
   ],
   "source": [
    "def pos_pred(y,g):\n",
    "    print(len(g))\n",
    "    return sum(y==True)/len(g)\n",
    "\n",
    "metrics = {\n",
    "    \"Positive Predictions\": pos_pred\n",
    "}\n",
    "metric_frame = MetricFrame(\n",
    "    metrics=metrics, y_true=y_test, y_pred=y_pred, sensitive_features=group_test\n",
    ")\n",
    "metric_frame.by_group.plot.barh(\n",
    "    subplots=True,\n",
    "    layout=[3, 3],\n",
    "    legend=False,\n",
    "    figsize=[12, 8],\n",
    "    title=\"Show all metrics\",\n",
    ")"
   ]
  },
  {
   "cell_type": "markdown",
   "id": "a196d863",
   "metadata": {},
   "source": [
    "**Statistical Parity** is one of the torch bearers in the field of accessing ML discrimination. But, clearly is not free of criticism as it **fails to consider the ground truth**. This brings us to our next fairness measure:\n",
    "\n",
    "### 2. Equal Opportunity (True Positive Parity):\n",
    "\n",
    "**Description:** Equal opportunity focuses on the true positive rate (sensitivity) and ensures that it is balanced across sensitive attribute groups.\n",
    "\n",
    "**Formally:** An Equal Opportunity difference is defined as \n",
    "$|E[h(X)=1|Y=1, S=g] - E[h(X)=1|Y=1, S=\\hat{g}]|$\n",
    "\n",
    "**Code Example:**"
   ]
  },
  {
   "cell_type": "code",
   "execution_count": 159,
   "id": "6d0652e5",
   "metadata": {},
   "outputs": [
    {
     "name": "stdout",
     "output_type": "stream",
     "text": [
      "0.20072934472934476\n"
     ]
    }
   ],
   "source": [
    "from fairlearn.metrics import true_positive_rate_difference, true_positive_rate\n",
    "\n",
    "E_Op= true_positive_rate_difference(y_test, y_pred, sensitive_features=group_test)\n",
    "\n",
    "print(E_Op)"
   ]
  },
  {
   "cell_type": "code",
   "execution_count": 160,
   "id": "1b2b8b24",
   "metadata": {},
   "outputs": [
    {
     "data": {
      "text/plain": [
       "array([[<Axes: title={'center': 'True Positive Rate'}, ylabel='SEX'>,\n",
       "        <Axes: ylabel='SEX'>, <Axes: ylabel='SEX'>],\n",
       "       [<Axes: ylabel='SEX'>, <Axes: ylabel='SEX'>, <Axes: ylabel='SEX'>],\n",
       "       [<Axes: ylabel='SEX'>, <Axes: ylabel='SEX'>, <Axes: ylabel='SEX'>]],\n",
       "      dtype=object)"
      ]
     },
     "execution_count": 160,
     "metadata": {},
     "output_type": "execute_result"
    },
    {
     "data": {
      "image/png": "[encoded data removed]",
      "text/plain": [
       "<Figure size 1200x800 with 9 Axes>"
      ]
     },
     "metadata": {},
     "output_type": "display_data"
    }
   ],
   "source": [
    "metrics = {\n",
    "    \"True Positive Rate\": true_positive_rate\n",
    "}\n",
    "metric_frame = MetricFrame(\n",
    "    metrics=metrics, y_true=y_test, y_pred=y_pred, sensitive_features=group_test\n",
    ")\n",
    "metric_frame.by_group.plot.barh(\n",
    "    subplots=True,\n",
    "    layout=[3, 3],\n",
    "    legend=False,\n",
    "    figsize=[12, 8],\n",
    "    title=\"Show all metrics\",\n",
    ")"
   ]
  },
  {
   "cell_type": "markdown",
   "id": "e1ab82ad",
   "metadata": {},
   "source": [
    "**Equal Opportunity** is a very popular measure and till date is widely used in research work requiring empherical evaluation of fairness. However, Equal Opportunity only looks into the positive class. There is another metric which takes into account both the positive and negaitive class (in case of binary prediction). \n",
    "\n",
    "### 3. Equalized Odds:\n",
    "\n",
    "**Description:** Equalized odds assesses whether a model provides equal opportunity and fairness in both true positive rates (for positive class) and false positive rate (for negative class) for different groups.\n",
    "\n",
    "**Formally:** An Equalized Odds difference is defined as \n",
    "$|E[h(X)=1|Y=1, S=g] - E[h(X)=1|Y=1, S=\\hat{g}]| + |E[h(X)=1|Y=-1, S=g] -  E[h(X)=1|Y=-1, S=\\hat{g}]|$\n",
    "\n",
    "**Code Example:**"
   ]
  },
  {
   "cell_type": "code",
   "execution_count": 161,
   "id": "679ef9bb",
   "metadata": {},
   "outputs": [
    {
     "name": "stdout",
     "output_type": "stream",
     "text": [
      "0.2556398358379695\n"
     ]
    }
   ],
   "source": [
    "from fairlearn.metrics import false_positive_rate_difference,false_positive_rate\n",
    "\n",
    "def eq_odd(y_test, y_pred, group_test):\n",
    "    return true_positive_rate_difference(y_test, y_pred, sensitive_features=group_test)\\\n",
    "                + false_positive_rate_difference(y_test, y_pred, sensitive_features=group_test)\n",
    "\n",
    "# Calculate equalized odds difference\n",
    "eq_diff = eq_odd(y_test, y_pred,group_test)\n",
    "\n",
    "print(eq_diff)"
   ]
  },
  {
   "cell_type": "markdown",
   "id": "f171cad1",
   "metadata": {},
   "source": [
    "I noticed some bug in the predefined Equalized odds difference function within the fairlearn library, thus I used a self defined function using some other predefined functions within the fairlearn library to measure Equalized Odds"
   ]
  },
  {
   "cell_type": "code",
   "execution_count": 162,
   "id": "d75d0b6a",
   "metadata": {},
   "outputs": [
    {
     "data": {
      "text/plain": [
       "array([[<Axes: title={'center': 'True Positive Rate'}, ylabel='SEX'>,\n",
       "        <Axes: title={'center': 'False Positive Rate'}, ylabel='SEX'>,\n",
       "        <Axes: ylabel='SEX'>],\n",
       "       [<Axes: ylabel='SEX'>, <Axes: ylabel='SEX'>, <Axes: ylabel='SEX'>],\n",
       "       [<Axes: ylabel='SEX'>, <Axes: ylabel='SEX'>, <Axes: ylabel='SEX'>]],\n",
       "      dtype=object)"
      ]
     },
     "execution_count": 162,
     "metadata": {},
     "output_type": "execute_result"
    },
    {
     "data": {
      "image/png": "[encoded data removed]",
      "text/plain": [
       "<Figure size 1200x800 with 9 Axes>"
      ]
     },
     "metadata": {},
     "output_type": "display_data"
    }
   ],
   "source": [
    "metrics = {\n",
    "    \"True Positive Rate\": true_positive_rate,\n",
    "    \"False Positive Rate\": false_positive_rate\n",
    "}\n",
    "metric_frame = MetricFrame(\n",
    "    metrics=metrics, y_true=y_test, y_pred=y_pred, sensitive_features=group_test\n",
    ")\n",
    "metric_frame.by_group.plot.barh(\n",
    "    subplots=True,\n",
    "    layout=[3, 3],\n",
    "    legend=False,\n",
    "    figsize=[12, 8],\n",
    "    title=\"Show all metrics\",\n",
    ")"
   ]
  },
  {
   "cell_type": "markdown",
   "id": "f371cd6c",
   "metadata": {},
   "source": [
    "So far we have learned how to evaluate fairness of an ML model given a protected attribute. But what if we have more than one protected attribute? Let's have a look.\n",
    "\n",
    "We need to redefine our task with more than one attributes as protected. Let's take Race, and Sex as protected. "
   ]
  },
  {
   "cell_type": "code",
   "execution_count": 163,
   "id": "e1145be7",
   "metadata": {},
   "outputs": [],
   "source": [
    "features=[ 'AGEP','SCHL', 'MAR','DIS','ESP','CIT','MIG','MIL', 'ANC','NATIVITY','DEAR',\n",
    "        'DEYE','DREM','PUMA', 'OCCP','JWTR','GCL','PINCP',\n",
    "        'ESR', 'OCCP', 'POWPUMA']\n",
    "\n",
    "Hardworkers = folktables.BasicProblem(\n",
    "                         features=features,\n",
    "                        target='WKHP',\n",
    "                        target_transform=lambda x: x > 45,\n",
    "                        group=['SEX','RAC1P'],\n",
    "                        preprocess=our_filter,\n",
    "                        postprocess=lambda x: np.nan_to_num(x, -1),\n",
    "                    )"
   ]
  },
  {
   "cell_type": "code",
   "execution_count": 164,
   "id": "6a28739a",
   "metadata": {},
   "outputs": [],
   "source": [
    "features, label, group = Hardworkers.df_to_pandas(acs_data)"
   ]
  },
  {
   "cell_type": "code",
   "execution_count": 165,
   "id": "8ff2b164",
   "metadata": {},
   "outputs": [
    {
     "data": {
      "text/html": [
       "<div>\n",
       "<style scoped>\n",
       "    .dataframe tbody tr th:only-of-type {\n",
       "        vertical-align: middle;\n",
       "    }\n",
       "\n",
       "    .dataframe tbody tr th {\n",
       "        vertical-align: top;\n",
       "    }\n",
       "\n",
       "    .dataframe thead th {\n",
       "        text-align: right;\n",
       "    }\n",
       "</style>\n",
       "<table border=\"1\" class=\"dataframe\">\n",
       "  <thead>\n",
       "    <tr style=\"text-align: right;\">\n",
       "      <th></th>\n",
       "      <th>SEX</th>\n",
       "      <th>RAC1P</th>\n",
       "    </tr>\n",
       "  </thead>\n",
       "  <tbody>\n",
       "    <tr>\n",
       "      <th>0</th>\n",
       "      <td>2</td>\n",
       "      <td>1</td>\n",
       "    </tr>\n",
       "    <tr>\n",
       "      <th>1</th>\n",
       "      <td>1</td>\n",
       "      <td>1</td>\n",
       "    </tr>\n",
       "    <tr>\n",
       "      <th>2</th>\n",
       "      <td>2</td>\n",
       "      <td>1</td>\n",
       "    </tr>\n",
       "    <tr>\n",
       "      <th>3</th>\n",
       "      <td>2</td>\n",
       "      <td>8</td>\n",
       "    </tr>\n",
       "    <tr>\n",
       "      <th>4</th>\n",
       "      <td>2</td>\n",
       "      <td>1</td>\n",
       "    </tr>\n",
       "    <tr>\n",
       "      <th>...</th>\n",
       "      <td>...</td>\n",
       "      <td>...</td>\n",
       "    </tr>\n",
       "    <tr>\n",
       "      <th>12430</th>\n",
       "      <td>1</td>\n",
       "      <td>1</td>\n",
       "    </tr>\n",
       "    <tr>\n",
       "      <th>12431</th>\n",
       "      <td>1</td>\n",
       "      <td>2</td>\n",
       "    </tr>\n",
       "    <tr>\n",
       "      <th>12432</th>\n",
       "      <td>2</td>\n",
       "      <td>1</td>\n",
       "    </tr>\n",
       "    <tr>\n",
       "      <th>12433</th>\n",
       "      <td>2</td>\n",
       "      <td>1</td>\n",
       "    </tr>\n",
       "    <tr>\n",
       "      <th>12434</th>\n",
       "      <td>1</td>\n",
       "      <td>1</td>\n",
       "    </tr>\n",
       "  </tbody>\n",
       "</table>\n",
       "<p>12435 rows × 2 columns</p>\n",
       "</div>"
      ],
      "text/plain": [
       "       SEX  RAC1P\n",
       "0        2      1\n",
       "1        1      1\n",
       "2        2      1\n",
       "3        2      8\n",
       "4        2      1\n",
       "...    ...    ...\n",
       "12430    1      1\n",
       "12431    1      2\n",
       "12432    2      1\n",
       "12433    2      1\n",
       "12434    1      1\n",
       "\n",
       "[12435 rows x 2 columns]"
      ]
     },
     "execution_count": 165,
     "metadata": {},
     "output_type": "execute_result"
    }
   ],
   "source": [
    "group"
   ]
  },
  {
   "cell_type": "markdown",
   "id": "213bb77b",
   "metadata": {},
   "source": [
    "\n",
    "**We see that the attribute 'RACE' has more than two categorical value. To make our life simple let's binarize the attribute 'RACE' to 'White:1' and 'Non-white:2'.**"
   ]
  },
  {
   "cell_type": "code",
   "execution_count": 166,
   "id": "707829f4",
   "metadata": {},
   "outputs": [],
   "source": [
    "group['RAC1P'][group['RAC1P']!=1]=2"
   ]
  },
  {
   "cell_type": "code",
   "execution_count": 167,
   "id": "e736098d",
   "metadata": {},
   "outputs": [
    {
     "data": {
      "text/html": [
       "<div>\n",
       "<style scoped>\n",
       "    .dataframe tbody tr th:only-of-type {\n",
       "        vertical-align: middle;\n",
       "    }\n",
       "\n",
       "    .dataframe tbody tr th {\n",
       "        vertical-align: top;\n",
       "    }\n",
       "\n",
       "    .dataframe thead th {\n",
       "        text-align: right;\n",
       "    }\n",
       "</style>\n",
       "<table border=\"1\" class=\"dataframe\">\n",
       "  <thead>\n",
       "    <tr style=\"text-align: right;\">\n",
       "      <th></th>\n",
       "      <th>SEX</th>\n",
       "      <th>RAC1P</th>\n",
       "    </tr>\n",
       "  </thead>\n",
       "  <tbody>\n",
       "    <tr>\n",
       "      <th>0</th>\n",
       "      <td>2</td>\n",
       "      <td>1</td>\n",
       "    </tr>\n",
       "    <tr>\n",
       "      <th>1</th>\n",
       "      <td>1</td>\n",
       "      <td>1</td>\n",
       "    </tr>\n",
       "    <tr>\n",
       "      <th>2</th>\n",
       "      <td>2</td>\n",
       "      <td>1</td>\n",
       "    </tr>\n",
       "    <tr>\n",
       "      <th>3</th>\n",
       "      <td>2</td>\n",
       "      <td>2</td>\n",
       "    </tr>\n",
       "    <tr>\n",
       "      <th>4</th>\n",
       "      <td>2</td>\n",
       "      <td>1</td>\n",
       "    </tr>\n",
       "    <tr>\n",
       "      <th>...</th>\n",
       "      <td>...</td>\n",
       "      <td>...</td>\n",
       "    </tr>\n",
       "    <tr>\n",
       "      <th>12430</th>\n",
       "      <td>1</td>\n",
       "      <td>1</td>\n",
       "    </tr>\n",
       "    <tr>\n",
       "      <th>12431</th>\n",
       "      <td>1</td>\n",
       "      <td>2</td>\n",
       "    </tr>\n",
       "    <tr>\n",
       "      <th>12432</th>\n",
       "      <td>2</td>\n",
       "      <td>1</td>\n",
       "    </tr>\n",
       "    <tr>\n",
       "      <th>12433</th>\n",
       "      <td>2</td>\n",
       "      <td>1</td>\n",
       "    </tr>\n",
       "    <tr>\n",
       "      <th>12434</th>\n",
       "      <td>1</td>\n",
       "      <td>1</td>\n",
       "    </tr>\n",
       "  </tbody>\n",
       "</table>\n",
       "<p>12435 rows × 2 columns</p>\n",
       "</div>"
      ],
      "text/plain": [
       "       SEX  RAC1P\n",
       "0        2      1\n",
       "1        1      1\n",
       "2        2      1\n",
       "3        2      2\n",
       "4        2      1\n",
       "...    ...    ...\n",
       "12430    1      1\n",
       "12431    1      2\n",
       "12432    2      1\n",
       "12433    2      1\n",
       "12434    1      1\n",
       "\n",
       "[12435 rows x 2 columns]"
      ]
     },
     "execution_count": 167,
     "metadata": {},
     "output_type": "execute_result"
    }
   ],
   "source": [
    "group"
   ]
  },
  {
   "cell_type": "code",
   "execution_count": 168,
   "id": "304368b7",
   "metadata": {},
   "outputs": [],
   "source": [
    "X_train, X_test, y_train, y_test, group_train, group_test = train_test_split(\n",
    "    features, label, group, test_size=0.2, random_state=0)"
   ]
  },
  {
   "cell_type": "code",
   "execution_count": 169,
   "id": "14459c14",
   "metadata": {},
   "outputs": [],
   "source": [
    "classifier = DecisionTreeClassifier(min_samples_leaf=5, max_depth=15)\n",
    "classifier.fit(X_train, y_train)\n",
    "y_pred = classifier.predict(X_test)"
   ]
  },
  {
   "cell_type": "markdown",
   "id": "2d1401f6",
   "metadata": {},
   "source": [
    "#### Now we want to evaluate discrimination of the classifier based on 'Race' and 'Sex'. A very naive way would be to just measure discrimination individually on each of the protected attribute."
   ]
  },
  {
   "cell_type": "code",
   "execution_count": 170,
   "id": "fc04a1dc",
   "metadata": {},
   "outputs": [
    {
     "name": "stdout",
     "output_type": "stream",
     "text": [
      "Discrimition on Sex 0.2716459186662486\n",
      "Discrimition on Race 0.055601490072433264\n"
     ]
    }
   ],
   "source": [
    "eq_diff_s = eq_odd(y_test, y_pred, group_test['SEX'])\n",
    "\n",
    "print('Discrimition on Sex',eq_diff_s)\n",
    "\n",
    "eq_diff_r = eq_odd(y_test, y_pred, group_test['RAC1P'])\n",
    "\n",
    "print('Discrimition on Race',eq_diff_r)"
   ]
  },
  {
   "cell_type": "markdown",
   "id": "3340c300",
   "metadata": {},
   "source": [
    "**We can also use the MetricFrame to visualize the true positive and false positive rates for each demgraphic group** "
   ]
  },
  {
   "cell_type": "code",
   "execution_count": 123,
   "id": "a86e2f4a",
   "metadata": {},
   "outputs": [
    {
     "data": {
      "text/plain": [
       "array([[<Axes: title={'center': 'True Positive Rate'}, ylabel='SEX,RAC1P'>,\n",
       "        <Axes: title={'center': 'False Positive Rate'}, ylabel='SEX,RAC1P'>,\n",
       "        <Axes: title={'center': 'False Negative Rate'}, ylabel='SEX,RAC1P'>],\n",
       "       [<Axes: ylabel='SEX,RAC1P'>, <Axes: ylabel='SEX,RAC1P'>,\n",
       "        <Axes: ylabel='SEX,RAC1P'>],\n",
       "       [<Axes: ylabel='SEX,RAC1P'>, <Axes: ylabel='SEX,RAC1P'>,\n",
       "        <Axes: ylabel='SEX,RAC1P'>]], dtype=object)"
      ]
     },
     "execution_count": 123,
     "metadata": {},
     "output_type": "execute_result"
    },
    {
     "data": {
      "image/png": "[encoded data removed]",
      "text/plain": [
       "<Figure size 1200x800 with 9 Axes>"
      ]
     },
     "metadata": {},
     "output_type": "display_data"
    }
   ],
   "source": [
    "from fairlearn.metrics import false_negative_rate\n",
    "metrics = {\n",
    "    \"True Positive Rate\": true_positive_rate,\n",
    "    \"False Positive Rate\": false_positive_rate,\n",
    "    \"False Negative Rate\": false_negative_rate\n",
    "}\n",
    "metric_frame = MetricFrame(\n",
    "    metrics=metrics, y_true=y_test, y_pred=y_pred, sensitive_features=group_test\n",
    ")\n",
    "metric_frame.by_group.plot.barh(\n",
    "    subplots=True,\n",
    "    layout=[3, 3],\n",
    "    legend=False,\n",
    "    figsize=[12, 8],\n",
    "    title=\"Show all metrics\",\n",
    ")"
   ]
  },
  {
   "cell_type": "markdown",
   "id": "a6f82525",
   "metadata": {},
   "source": [
    "This gives a nice insight about the discriminations w.r.t different attributes, but still doesn't give an overall picture, like a single evaluated value to give overall discrimination accesment of the classifier.\n",
    "\n",
    "To do so, we look into one such measure called **Multi-Max Mistreatment (MMM)** which gives the accesment of maximum discrimination observed in any of the class w.r.t any of the protected attribute.\n",
    "\n",
    "\n",
    "**Formally:** A Multi-Max Mistreatment is defined as: \n",
    "$\\max_{S_j}(\\max|E[h(X)=1|Y=1, S_j=g_j] - E[h(X)=1|Y=1, S_j=\\hat{g_j}]|,|E[h(X)=1|Y=-1, S_j=g_j] - E[h(X)=1|Y=-1, S_j=\\hat{g_j}]|))$\n",
    "\n",
    "where, $S_j$ denotes a protected attribute (Sex or Race) and $g_j, \\hat{g_j}$ denotes groups (Male, Female) defined by the protected attribute $S_j$ (Sex).\n",
    "\n",
    "**Code Example:**"
   ]
  },
  {
   "cell_type": "code",
   "execution_count": 171,
   "id": "5c309dc7",
   "metadata": {},
   "outputs": [
    {
     "name": "stdout",
     "output_type": "stream",
     "text": [
      "The Maximum Mistreatment observed over the multiple protected attributes is 0.20927635327635327\n"
     ]
    }
   ],
   "source": [
    "from fairlearn.metrics import false_positive_rate_difference,false_negative_rate_difference\n",
    "\n",
    "MMM=max([max(true_positive_rate_difference(y_true=y_test, y_pred=y_pred, sensitive_features=group_test[S]),\n",
    "        false_positive_rate_difference(y_true=y_test, y_pred=y_pred, sensitive_features=group_test[S])) \n",
    "     for S in group_test.columns])\n",
    "print('The Maximum Mistreatment observed over the multiple protected attributes is', MMM)"
   ]
  },
  {
   "cell_type": "markdown",
   "id": "ab2a9df3",
   "metadata": {},
   "source": [
    "This is just a very basic way to look into discrimiantion w.r.t multiple protected attributes. However, there has been also a great deal of research going on in this direction specially on the subpopulation/ subgroups defined by the intersection of different groups e.g., 'Non-white Females'. \n",
    "\n",
    "To know more about discrimination w.r.t., multiple protected attribute please refer to the recent survey published in FAccT 2023, and is included in the reference below."
   ]
  },
  {
   "cell_type": "markdown",
   "id": "4196f710",
   "metadata": {},
   "source": [
    "### References\n",
    "\n",
    "- Roy, A., Horstmann, J., & Ntoutsi, E. (2023, June). Multi-dimensional Discrimination in Law and Machine Learning-A Comparative Overview. In Proceedings of the 2023 ACM Conference on Fairness, Accountability, and Transparency (pp. 89-100).\n",
    "\n",
    "- Weerts, H., Dudík, M., Edgar, R., Jalali, A., Lutz, R., & Madaio, M. (2023). Fairlearn: Assessing and Improving Fairness of AI Systems. arXiv preprint arXiv:2303.16626.\n",
    "\n",
    "- Roy, A., Iosifidis, V., & Ntoutsi, E. (2022, October). Multi-fairness under class-imbalance. In International Conference on Discovery Science (pp. 286-301). Cham: Springer Nature Switzerland.\n",
    "\n",
    "- Ding, F., Hardt, M., Miller, J., & Schmidt, L. (2021). Retiring adult: New datasets for fair machine learning. Advances in neural information processing systems, 34, 6478-6490.\n",
    "\n",
    "- Hardt, M., Price, E., & Srebro, N. (2016). Equality of opportunity in supervised learning. Advances in neural information processing systems, 29.\n",
    "\n",
    "- Dwork, C., Hardt, M., Pitassi, T., Reingold, O., & Zemel, R. (2012, January). Fairness through awareness. In Proceedings of the 3rd innovations in theoretical computer science conference (pp. 214-226)."
   ]
  },
  {
   "cell_type": "code",
   "execution_count": null,
   "id": "91c37fec",
   "metadata": {},
   "outputs": [],
   "source": []
  }
 ],
 "metadata": {
  "kernelspec": {
   "display_name": "Python 3 (ipykernel)",
   "language": "python",
   "name": "python3"
  },
  "language_info": {
   "codemirror_mode": {
    "name": "ipython",
    "version": 3
   },
   "file_extension": ".py",
   "mimetype": "text/x-python",
   "name": "python",
   "nbconvert_exporter": "python",
   "pygments_lexer": "ipython3",
   "version": "3.11.4"
  }
 },
 "nbformat": 4,
 "nbformat_minor": 5
}
